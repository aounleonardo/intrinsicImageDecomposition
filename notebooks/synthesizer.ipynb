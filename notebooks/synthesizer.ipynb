{
 "cells": [
  {
   "cell_type": "code",
   "execution_count": 32,
   "metadata": {
    "collapsed": true
   },
   "outputs": [],
   "source": [
    "%matplotlib inline\n",
    "\n",
    "import numpy as np\n",
    "import matplotlib.pyplot as plt\n",
    "import matplotlib.image as mpimg\n",
    "import os"
   ]
  },
  {
   "cell_type": "code",
   "execution_count": 26,
   "metadata": {
    "collapsed": true
   },
   "outputs": [],
   "source": [
    "FLAG = '/cvlabdata1/cvlab/datasets_aoun/flag_2/'\n",
    "IMAGES = 'images/'\n",
    "ALBEDOS = 'albedos/'\n",
    "SHADINGS = 'shadings/'\n",
    "SYNTHS = 'synths/'\n",
    "\n",
    "TYPE = 'bltltr-cotton/'"
   ]
  },
  {
   "cell_type": "code",
   "execution_count": 27,
   "metadata": {
    "collapsed": true
   },
   "outputs": [],
   "source": [
    "# TYPES = \"trbrbl-rubber\""
   ]
  },
  {
   "cell_type": "code",
   "execution_count": 28,
   "metadata": {
    "collapsed": true
   },
   "outputs": [],
   "source": [
    "TYPEZ = TYPES.split(' ')"
   ]
  },
  {
   "cell_type": "code",
   "execution_count": null,
   "metadata": {
    "collapsed": true
   },
   "outputs": [],
   "source": [
    "len(TYPEZ)"
   ]
  },
  {
   "cell_type": "code",
   "execution_count": null,
   "metadata": {
    "collapsed": true
   },
   "outputs": [],
   "source": [
    "for TYPE in TYPEZ:\n",
    "    TYPE = TYPE + '/'\n",
    "    for filename in os.listdir(FLAG + IMAGES + TYPE):\n",
    "        img = mpimg.imread(FLAG + IMAGES + TYPE + filename)\n",
    "        albedo = mpimg.imread(FLAG + ALBEDOS + TYPE + filename)\n",
    "        shading = mpimg.imread(FLAG + SHADINGS + TYPE + filename)\n",
    "        # albedo = mpimg.imread('../data/albedo.png')\n",
    "        img = img/255\n",
    "        albedo = albedo/255\n",
    "        shading = shading/255\n",
    "        synth = albedo * shading\n",
    "\n",
    "        plt.imsave(arr=synth, fname=FLAG+SYNTHS+TYPE +filename)"
   ]
  }
 ],
 "metadata": {
  "kernelspec": {
   "display_name": "Python 3",
   "language": "python",
   "name": "python3"
  },
  "language_info": {
   "codemirror_mode": {
    "name": "ipython",
    "version": 3
   },
   "file_extension": ".py",
   "mimetype": "text/x-python",
   "name": "python",
   "nbconvert_exporter": "python",
   "pygments_lexer": "ipython3",
   "version": "3.6.2"
  }
 },
 "nbformat": 4,
 "nbformat_minor": 2
}
